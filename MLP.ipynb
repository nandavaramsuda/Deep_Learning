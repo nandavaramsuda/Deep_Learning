{
 "cells": [
  {
   "cell_type": "code",
   "execution_count": 1,
   "metadata": {},
   "outputs": [],
   "source": [
    "import tensorflow as tf\n",
    "from tensorflow.examples.tutorials.mnist import input_data"
   ]
  },
  {
   "cell_type": "code",
   "execution_count": 2,
   "metadata": {},
   "outputs": [
    {
     "name": "stdout",
     "output_type": "stream",
     "text": [
      "Successfully downloaded train-images-idx3-ubyte.gz 9912422 bytes.\n",
      "Extracting MNIST_data/train-images-idx3-ubyte.gz\n",
      "Successfully downloaded train-labels-idx1-ubyte.gz 28881 bytes.\n",
      "Extracting MNIST_data/train-labels-idx1-ubyte.gz\n",
      "Successfully downloaded t10k-images-idx3-ubyte.gz 1648877 bytes.\n",
      "Extracting MNIST_data/t10k-images-idx3-ubyte.gz\n",
      "Successfully downloaded t10k-labels-idx1-ubyte.gz 4542 bytes.\n",
      "Extracting MNIST_data/t10k-labels-idx1-ubyte.gz\n"
     ]
    }
   ],
   "source": [
    "mnist = input_data.read_data_sets('MNIST_data',one_hot=True)\n",
    "n_input = mnist.train.images.shape[1]\n",
    "n_hidden = 200\n",
    "n_classes = 10"
   ]
  },
  {
   "cell_type": "code",
   "execution_count": 3,
   "metadata": {},
   "outputs": [],
   "source": [
    "def MLP_graph():\n",
    "    x = tf.placeholder(\"float\",[None,n_input])\n",
    "    y  =  tf.placeholder(\"float\",[None, n_classes])\n",
    "    weights = {\n",
    "        \"h1\": tf.Variable(tf.random_normal([n_input,n_hidden])),\n",
    "        \"out\" : tf.Variable(tf.random_normal([n_hidden,n_classes]))\n",
    "    }\n",
    "    return x,y,weights\n",
    "\n",
    "def MLP_model(x,y, weights):\n",
    "    h_input = tf.nn.relu(tf.matmul(x,weights[\"h1\"]))\n",
    "    logits = tf.matmul(h_input, weights[\"out\"])\n",
    "    pred = tf.one_hot(tf.cast(tf.argmax(logits,1),tf.int32), depth = 10)\n",
    "\n",
    "    return pred, logits\n",
    "\n",
    "def get_loss(logits,y):\n",
    "    loss = tf.reduce_mean(tf.nn.softmax_cross_entropy_with_logits_v2(labels = y, logits= logits))\n",
    "    return loss\n",
    "\n",
    "def get_accuracy(pred, y):\n",
    "    correct_predction = tf.equal(tf.argmax(pred,1),tf.argmax(y,1))\n",
    "    accuracy = tf.reduce_mean(tf.cast(correct_predction,tf.float32))\n",
    "    return accuracy"
   ]
  },
  {
   "cell_type": "code",
   "execution_count": 4,
   "metadata": {},
   "outputs": [
    {
     "name": "stdout",
     "output_type": "stream",
     "text": [
      "test accuracy at step 0: 0.043\n",
      "test accuracy at step 100: 0.502\n",
      "test accuracy at step 200: 0.645\n",
      "test accuracy at step 300: 0.734\n",
      "test accuracy at step 400: 0.754\n",
      "test accuracy at step 500: 0.743\n",
      "test accuracy at step 600: 0.793\n",
      "test accuracy at step 700: 0.798\n",
      "test accuracy at step 800: 0.797\n",
      "test accuracy at step 900: 0.795\n",
      "Accuracy using tensorflow is :\n",
      "0.8251\n"
     ]
    }
   ],
   "source": [
    "def main():\n",
    "    x, y, weights = MLP_graph()\n",
    "    pred, logits = MLP_model(x,y, weights)\n",
    "    loss = get_loss(logits,y)\n",
    "    accuracy = get_accuracy(pred, y)\n",
    "\n",
    "    train_step = tf.train.GradientDescentOptimizer(learning_rate=0.01).minimize(loss)\n",
    "\n",
    "    sess = tf.Session()\n",
    "    init = tf.global_variables_initializer()\n",
    "    sess.run(init)\n",
    "\n",
    "    for i in range(1000):\n",
    "        batch = mnist.train.next_batch(1000)\n",
    "        # print(batch[1])\n",
    "        if (i % 100) == 0:\n",
    "            acc  = sess.run(accuracy, feed_dict={x:batch[0],y:batch[1]})\n",
    "            print(\"test accuracy at step %s: %s\" % (i,acc))\n",
    "        else:\n",
    "            sess.run(train_step,feed_dict={x:batch[0],y:batch[1]})\n",
    "    print(\"Accuracy using tensorflow is :\")\n",
    "    print(sess.run(accuracy,feed_dict={x:mnist.test.images,y:mnist.test.labels}))\n",
    "\n",
    "main()"
   ]
  },
  {
   "cell_type": "code",
   "execution_count": null,
   "metadata": {},
   "outputs": [],
   "source": []
  }
 ],
 "metadata": {
  "kernelspec": {
   "display_name": "Python 3",
   "language": "python",
   "name": "python3"
  },
  "language_info": {
   "codemirror_mode": {
    "name": "ipython",
    "version": 3
   },
   "file_extension": ".py",
   "mimetype": "text/x-python",
   "name": "python",
   "nbconvert_exporter": "python",
   "pygments_lexer": "ipython3",
   "version": "3.6.7"
  }
 },
 "nbformat": 4,
 "nbformat_minor": 2
}
